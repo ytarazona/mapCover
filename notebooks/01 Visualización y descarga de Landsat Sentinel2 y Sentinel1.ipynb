{
 "cells": [
  {
   "cell_type": "markdown",
   "metadata": {},
   "source": [
    "## Visualización y descarga de un mosaico de coleccion Sentinel-2"
   ]
  },
  {
   "cell_type": "markdown",
   "metadata": {},
   "source": [
    "## 1. Libraries"
   ]
  },
  {
   "cell_type": "code",
   "execution_count": null,
   "metadata": {},
   "outputs": [],
   "source": [
    "# run if geemap is not installed\n",
    "pip install geemap"
   ]
  },
  {
   "cell_type": "code",
   "execution_count": null,
   "metadata": {},
   "outputs": [],
   "source": [
    "# Instalar geemap package\n",
    "import ee\n",
    "ee.Initialize()\n",
    "import geemap as emap\n",
    "Map = emap.Map()\n",
    "Map.add_basemap('SATELLITE')"
   ]
  },
  {
   "cell_type": "markdown",
   "metadata": {},
   "source": [
    "## 2. Codes"
   ]
  },
  {
   "cell_type": "code",
   "execution_count": 47,
   "metadata": {
    "scrolled": true
   },
   "outputs": [
    {
     "data": {
      "application/vnd.jupyter.widget-view+json": {
       "model_id": "52449493262944ffaa67d354b33696cc",
       "version_major": 2,
       "version_minor": 0
      },
      "text/plain": [
       "Map(bottom=1108084.0, center=[-10.095389044502927, -75.96588340234555], controls=(WidgetControl(options=['posi…"
      ]
     },
     "metadata": {},
     "output_type": "display_data"
    }
   ],
   "source": [
    "# study area\n",
    "#region = ee.FeatureCollection('projects/map-cover-huanuco/assets/landscape_quishqui')\n",
    "#region = ee.FeatureCollection('projects/map-cover-huanuco/assets/landscape_amarilis')\n",
    "region = ee.FeatureCollection('projects/map-cover-huanuco/assets/landscape_molinos_p2')\n",
    "\n",
    "# Define collection\n",
    "colS2 = 'COPERNICUS/S2_SR_HARMONIZED'\n",
    "\n",
    "# masking clouds\n",
    "def maskSQA(image):\n",
    "    qa = image.select('QA60')\n",
    "    opaque_cloud = (1 << 10)\n",
    "    cirrus_cloud = (1 << 11)\n",
    "    mask = qa.bitwiseAnd(opaque_cloud).eq(0).And(qa.bitwiseAnd(cirrus_cloud).eq(0))\n",
    "    return image.updateMask(mask)\n",
    "\n",
    "# bands names\n",
    "bandNames = ['B2_median','B3_median','B4_median','B8_median','B8A_median','B11_median','B12_median'] \n",
    "#blue, red, green, red, red-edge, nir y swir1\n",
    "\n",
    "img = ee.ImageCollection(colS2)\\\n",
    "                .filterDate('2022-08-01','2022-10-20')\\\n",
    "                .filterBounds(region)\\\n",
    "                .filter(ee.Filter.lt('CLOUDY_PIXEL_PERCENTAGE',10))\\\n",
    "                .map(maskSQA)\\\n",
    "                .reduce(ee.Reducer.median()).select(bandNames)\\\n",
    "                .clip(region)\n",
    "\n",
    "# Definimos los parametros de visualizacion\n",
    "vizParams = {\n",
    "  'bands': ['B11_median', 'B8_median', 'B4_median'],\n",
    "  'min': 0,\n",
    "  'max': 3500,\n",
    "  'gamma': [0.95, 1.1, 1]\n",
    "}\n",
    "\n",
    "Map.centerObject(region, 10)\n",
    "Map.addLayer(img, vizParams, 'S2')\n",
    "Map.addLayer(region, {}, 'default display', True, opacity = 0.2)\n",
    "Map"
   ]
  },
  {
   "cell_type": "markdown",
   "metadata": {},
   "source": [
    "## 3. Download images"
   ]
  },
  {
   "cell_type": "code",
   "execution_count": null,
   "metadata": {},
   "outputs": [],
   "source": [
    "# Descargar directamente a Google Drive\n",
    "task = ee.batch.Export.image(img, \n",
    "                              'S2_2022_09_02_Molinos_P2', \n",
    "                              {'region': region.geometry(),\n",
    "                               'scale': 10,\n",
    "                               'maxPixels': 1e13,\n",
    "                               'folder': 'CLASES_UNI',\n",
    "                               'fileFormat': 'GeoTIFF',\n",
    "                               'crs': 'EPSG:4326'})\n",
    "task.start()"
   ]
  }
 ],
 "metadata": {
  "kernelspec": {
   "display_name": "Python 3",
   "language": "python",
   "name": "python3"
  },
  "language_info": {
   "codemirror_mode": {
    "name": "ipython",
    "version": 3
   },
   "file_extension": ".py",
   "mimetype": "text/x-python",
   "name": "python",
   "nbconvert_exporter": "python",
   "pygments_lexer": "ipython3",
   "version": "3.8.3"
  },
  "toc": {
   "base_numbering": 1,
   "nav_menu": {},
   "number_sections": false,
   "sideBar": true,
   "skip_h1_title": false,
   "title_cell": "Table of Contents",
   "title_sidebar": "Contents",
   "toc_cell": false,
   "toc_position": {},
   "toc_section_display": true,
   "toc_window_display": false
  }
 },
 "nbformat": 4,
 "nbformat_minor": 4
}
